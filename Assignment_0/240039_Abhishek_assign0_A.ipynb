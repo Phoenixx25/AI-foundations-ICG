{
  "nbformat": 4,
  "nbformat_minor": 0,
  "metadata": {
    "colab": {
      "provenance": [],
      "include_colab_link": true
    },
    "kernelspec": {
      "name": "python3",
      "display_name": "Python 3"
    },
    "language_info": {
      "name": "python"
    }
  },
  "cells": [
    {
      "cell_type": "markdown",
      "metadata": {
        "id": "view-in-github",
        "colab_type": "text"
      },
      "source": [
        "<a href=\"https://colab.research.google.com/github/Abhishek-Parth/AI-foundations-ICG/blob/main/240039_Abhishek_assign0_A.ipynb\" target=\"_parent\"><img src=\"https://colab.research.google.com/assets/colab-badge.svg\" alt=\"Open In Colab\"/></a>"
      ]
    },
    {
      "cell_type": "markdown",
      "source": [
        "Instructions for the assignment\n",
        "\n",
        "\n",
        "*   Fill the codeblocks according to the comments given\n",
        "*   Hints are given wherever required\n",
        "*   Please note that copying will not be tolerated, and appropriate action will be taken if we suspect any misconduct.\n",
        "*   You're welcome to utilize any online resources in case you feel stuck anywhere\n",
        "\n",
        "\n",
        "\n",
        "\n",
        "\n",
        "\n",
        "\n"
      ],
      "metadata": {
        "id": "kIAcUXNYVeGR"
      }
    },
    {
      "cell_type": "markdown",
      "source": [
        "# Section A *(2 Marks each)*"
      ],
      "metadata": {
        "id": "UhXvUdK6Stt_"
      }
    },
    {
      "cell_type": "markdown",
      "source": [
        "## NumPy (Numerical Python)\n",
        "\n",
        "### Multidimensional array object\n",
        "- Array is a grid of homogeneous elements which can be indexed in various ways\n",
        "- Different from Python list which can store different data types\n",
        "- NumPy stores multidimensional arrays as an instance of **ndarray**\n",
        "\n"
      ],
      "metadata": {
        "id": "oc77CrhjAGlR"
      }
    },
    {
      "cell_type": "code",
      "source": [
        "import numpy as np\n",
        "import pandas as pd"
      ],
      "metadata": {
        "id": "WGtRigfyBpgb"
      },
      "execution_count": 11,
      "outputs": []
    },
    {
      "cell_type": "code",
      "execution_count": 12,
      "metadata": {
        "id": "UR9ftRnU8_lu",
        "colab": {
          "base_uri": "https://localhost:8080/"
        },
        "outputId": "f96b700d-eaab-4725-9d18-03f21dddf33c"
      },
      "outputs": [
        {
          "output_type": "stream",
          "name": "stdout",
          "text": [
            "[1 2 3 4 5]\n",
            "[[0 1 2]\n",
            " [3 4 5]\n",
            " [6 7 8]]\n"
          ]
        }
      ],
      "source": [
        "# Python list to initialize a one dimensional NumPy array of numbers 1 to 5 and then print it\n",
        "l1=[1,2,3,4,5]\n",
        "ar=np.array(l1)\n",
        "print(ar)\n",
        "# Python list to initialize a two dimensional NumPy array of shape [3,3] and then print it\n",
        "ar=np.arange(9)\n",
        "ar=ar.reshape(3,3)\n",
        "print(ar)"
      ]
    },
    {
      "cell_type": "code",
      "source": [
        "# Write a NumPy function to create an array with random values of shape [3,4]\n",
        "ar=np.random.randint(100,size=(3,4))\n",
        "print(ar)\n",
        "# Write a NumPy function to create an array with all elements initialized as zero of shape [3,4]\n",
        "ar=np.zeros((3,4))\n",
        "print(ar)\n",
        "# Write a NumPy function to create an array with all elements initialized as ones of shape [3,4]\n",
        "ar=np.ones((3,4))\n",
        "print(ar)"
      ],
      "metadata": {
        "id": "WZf-M7KnBkhu",
        "colab": {
          "base_uri": "https://localhost:8080/"
        },
        "outputId": "5f4ddb9c-6d2e-4def-f530-3e2c4304e8a1"
      },
      "execution_count": 13,
      "outputs": [
        {
          "output_type": "stream",
          "name": "stdout",
          "text": [
            "[[87 18 73 52]\n",
            " [37 32 25 63]\n",
            " [52 92 61 82]]\n",
            "[[0. 0. 0. 0.]\n",
            " [0. 0. 0. 0.]\n",
            " [0. 0. 0. 0.]]\n",
            "[[1. 1. 1. 1.]\n",
            " [1. 1. 1. 1.]\n",
            " [1. 1. 1. 1.]]\n"
          ]
        }
      ]
    },
    {
      "cell_type": "code",
      "source": [
        "# Write a NumPy function to create an array containing a range of evenly spaced intervals\n",
        "# Hint : Use np.arange or np.linspace\n",
        "ar=np.linspace(1,10,10)\n",
        "print(ar)"
      ],
      "metadata": {
        "id": "Uagv5WtWBknb",
        "colab": {
          "base_uri": "https://localhost:8080/"
        },
        "outputId": "eaa6171f-e009-4831-8003-47966c8e901a"
      },
      "execution_count": 26,
      "outputs": [
        {
          "output_type": "stream",
          "name": "stdout",
          "text": [
            "[ 1.  2.  3.  4.  5.  6.  7.  8.  9. 10.]\n"
          ]
        }
      ]
    },
    {
      "cell_type": "markdown",
      "source": [
        "### Basic array operations\n",
        "- algebraic operations\n",
        "- logical operations"
      ],
      "metadata": {
        "id": "dFeKiGA5CNXx"
      }
    },
    {
      "cell_type": "code",
      "source": [
        "a = np.array([[-4,6,8], [9, 3, 1], [1, 8, 5]])\n",
        "b = np.array([[11,16,18], [90, 37, 81], [61, 48, 75]])"
      ],
      "metadata": {
        "id": "mZbgCNnRDVbV"
      },
      "execution_count": 16,
      "outputs": []
    },
    {
      "cell_type": "code",
      "source": [
        "# Write a NumPy function to add, subtract, multiply and divide arrays 'a' and 'b'\n",
        "c=a+b\n",
        "print(c)\n",
        "c=a-b\n",
        "print(c)\n",
        "c=a*b\n",
        "print(c)\n",
        "c=a/b\n",
        "print(c)"
      ],
      "metadata": {
        "id": "QajfAkNHCMqe",
        "colab": {
          "base_uri": "https://localhost:8080/"
        },
        "outputId": "b06b5b5b-2ce2-4ff5-ae05-670544a73a71"
      },
      "execution_count": 17,
      "outputs": [
        {
          "output_type": "stream",
          "name": "stdout",
          "text": [
            "[[ 7 22 26]\n",
            " [99 40 82]\n",
            " [62 56 80]]\n",
            "[[-15 -10 -10]\n",
            " [-81 -34 -80]\n",
            " [-60 -40 -70]]\n",
            "[[-44  96 144]\n",
            " [810 111  81]\n",
            " [ 61 384 375]]\n",
            "[[-0.36363636  0.375       0.44444444]\n",
            " [ 0.1         0.08108108  0.01234568]\n",
            " [ 0.01639344  0.16666667  0.06666667]]\n"
          ]
        }
      ]
    },
    {
      "cell_type": "code",
      "source": [
        "# Write a NumPy function to get the sum of the array 'a' along axis=0\n",
        "sum_axis_0 = np.sum(a, axis=0)\n",
        "print(sum_axis_0)\n",
        "# Write a NumPy function to get the sum of the array 'a' along axis=1\n",
        "sum_axis_1 = np.sum(a, axis=1)\n",
        "print(sum_axis_1)"
      ],
      "metadata": {
        "id": "hfBR7r80C_qh",
        "colab": {
          "base_uri": "https://localhost:8080/"
        },
        "outputId": "965d31e2-fd1b-44ff-c9b6-04d64c1b5d04"
      },
      "execution_count": 24,
      "outputs": [
        {
          "output_type": "stream",
          "name": "stdout",
          "text": [
            "[ 6 17 14]\n",
            "[10 13 14]\n"
          ]
        }
      ]
    },
    {
      "cell_type": "code",
      "source": [
        "# Write a NumPy function to reverse the array 'a'\n",
        "def reverse_array(arr):\n",
        "  return np.flip(arr)\n",
        "reversed_a = reverse_array(a)\n",
        "print(\"Reversed array 'a':\\n\", reversed_a)\n",
        "# Write a NumPy function to reverse the array 'a' along axis=0\n",
        "def reverse_axis0(arr):\n",
        "  return np.flip(arr, axis=0)\n",
        "reversed_axis0_a = reverse_axis0(a)\n",
        "print(\"\\nReversed array 'a' along axis=0:\\n\", reversed_axis0_a)\n",
        "# Write a NumPy function to reverse the array 'a' along axis=1\n",
        "def reverse_axis1(arr):\n",
        "  return np.flip(arr, axis=1)\n",
        "reversed_axis1_a = reverse_axis1(a)\n",
        "print(\"\\nReversed array 'a' along axis=1:\\n\", reversed_axis1_a)"
      ],
      "metadata": {
        "id": "rBTxfTuFDSiA",
        "colab": {
          "base_uri": "https://localhost:8080/"
        },
        "outputId": "9a896b72-78af-4b6c-e14c-60a41bb82da4"
      },
      "execution_count": 25,
      "outputs": [
        {
          "output_type": "stream",
          "name": "stdout",
          "text": [
            "Reversed array 'a':\n",
            " [[ 5  8  1]\n",
            " [ 1  3  9]\n",
            " [ 8  6 -4]]\n",
            "\n",
            "Reversed array 'a' along axis=0:\n",
            " [[ 1  8  5]\n",
            " [ 9  3  1]\n",
            " [-4  6  8]]\n",
            "\n",
            "Reversed array 'a' along axis=1:\n",
            " [[ 8  6 -4]\n",
            " [ 1  3  9]\n",
            " [ 5  8  1]]\n"
          ]
        }
      ]
    },
    {
      "cell_type": "markdown",
      "source": [
        "### Sorting and concatenation\n",
        "- sort arrays\n",
        "- join multiple arrays\n"
      ],
      "metadata": {
        "id": "WnCvXc3jCdWH"
      }
    },
    {
      "cell_type": "code",
      "source": [
        "a = np.array([[-4,6,8], [9, 3, 1], [1, 8, 5]])\n",
        "b = np.array([[11,16,18], [90, 37, 81], [61, 48, 75]])"
      ],
      "metadata": {
        "id": "Qsg-EPq7EbPx"
      },
      "execution_count": 27,
      "outputs": []
    },
    {
      "cell_type": "code",
      "source": [
        "# Write a NumPy function to sort the array 'a'\n",
        "def sort_array(arr):\n",
        "    return np.sort(arr)\n",
        "ar=sort_array(a)\n",
        "print(ar)\n",
        "# Write a NumPy function to sort the array 'a' along axis=0\n",
        "def sort_axis0(arr):\n",
        "    return np.sort(arr, axis=0)\n",
        "ar=sort_axis0(a)\n",
        "print(ar)\n",
        "# Write a NumPy function to sort the array 'a' along axis=1\n",
        "def sort_axis1(arrr):\n",
        "    return np.sort(arrr, axis=0)\n",
        "ar=sort_axis1(a)\n",
        "print(ar)\n",
        "# Write a NumPy function to sort the array 'a' in descending order along axis=0\n",
        "def sort_de_axis0(arr):\n",
        "    sorted_arr = np.sort(arr, axis=0)\n",
        "    return np.flip(sorted_arr, axis=0)\n",
        "print(sort_de_axis0(a))"
      ],
      "metadata": {
        "id": "_7VfP1anCc0O",
        "colab": {
          "base_uri": "https://localhost:8080/"
        },
        "outputId": "0398a1e0-bb2c-435e-94fc-53834080e2d8"
      },
      "execution_count": 31,
      "outputs": [
        {
          "output_type": "stream",
          "name": "stdout",
          "text": [
            "[[-4  6  8]\n",
            " [ 1  3  9]\n",
            " [ 1  5  8]]\n",
            "[[-4  3  8]\n",
            " [ 1  5  8]\n",
            " [ 1  6  9]]\n",
            "[[-4  3  8]\n",
            " [ 1  5  8]\n",
            " [ 1  6  9]]\n",
            "[[ 1  6  9]\n",
            " [ 1  5  8]\n",
            " [-4  3  8]]\n"
          ]
        }
      ]
    },
    {
      "cell_type": "code",
      "source": [
        "# Write a NumPy function to argsort the array along axis=0\n",
        "def argsort_axis0(arr):\n",
        "  return np.argsort(arr, axis=0)\n",
        "print(argsort_axis0(a))\n",
        "# Write a NumPy function to argsort the array along axis=1\n",
        "def argsort_axis1(arr):\n",
        "  return np.argsort(arr, axis=1)\n",
        "print(argsort_axis1(a))"
      ],
      "metadata": {
        "id": "6BqbtdLYEWng",
        "colab": {
          "base_uri": "https://localhost:8080/"
        },
        "outputId": "e2764c99-1d99-4369-a587-5044f3d38e80"
      },
      "execution_count": 35,
      "outputs": [
        {
          "output_type": "stream",
          "name": "stdout",
          "text": [
            "[[0 1 0]\n",
            " [1 2 2]\n",
            " [2 0 1]]\n",
            "[[0 1 2]\n",
            " [0 1 2]\n",
            " [0 1 2]]\n"
          ]
        }
      ]
    },
    {
      "cell_type": "code",
      "source": [
        "# Write a NumPy function to concatenate the arrays 'a' and 'b'\n",
        "def concatenate_arrays(arr1, arr2):\n",
        "  return np.concatenate((arr1, arr2))\n",
        "print(concatenate_arrays(a,b))\n",
        "# Write a NumPy function to concatenate the arrays 'a' and 'b' along axis = 0\n",
        "def concatenate_axis0(arr1, arr2):\n",
        "  return np.concatenate((arr1, arr2), axis=0)\n",
        "print(concatenate_axis0(a,b))\n",
        "# Note: You can do the same function using stacking, discover and try that :)\n",
        "def stack_arrays(arr1, arr2):\n",
        "  return np.stack((arr1, arr2))\n",
        "print(stack_arrays(a,b))"
      ],
      "metadata": {
        "id": "cixOoXZhEY8-",
        "colab": {
          "base_uri": "https://localhost:8080/"
        },
        "outputId": "14c08573-f477-444b-c8e3-fd75f0a36ed7"
      },
      "execution_count": 36,
      "outputs": [
        {
          "output_type": "stream",
          "name": "stdout",
          "text": [
            "[[-4  6  8]\n",
            " [ 1  3  9]\n",
            " [ 1  5  8]\n",
            " [11 16 18]\n",
            " [90 37 81]\n",
            " [61 48 75]]\n",
            "[[-4  6  8]\n",
            " [ 1  3  9]\n",
            " [ 1  5  8]\n",
            " [11 16 18]\n",
            " [90 37 81]\n",
            " [61 48 75]]\n",
            "[[[-4  6  8]\n",
            "  [ 1  3  9]\n",
            "  [ 1  5  8]]\n",
            "\n",
            " [[11 16 18]\n",
            "  [90 37 81]\n",
            "  [61 48 75]]]\n"
          ]
        }
      ]
    },
    {
      "cell_type": "markdown",
      "source": [
        "### Reshaping arrays\n",
        "- the number of dimensions of the array\n",
        "-  shape of n-dimensional array as a tuple with n elements s.t. $i^{th}$ element is the length of the $i^{th}$ dimension of the array\n",
        "- total number of elements of the array\n",
        "- reshapes the array\n",
        "- flattens multidimensional array into a 1D array\n",
        "- adds new dimensions to the array"
      ],
      "metadata": {
        "id": "aY0j33z2EjNx"
      }
    },
    {
      "cell_type": "code",
      "source": [
        "a = np.array([[4,6,8], [9, 3, 1], [1, 8, 5]])"
      ],
      "metadata": {
        "id": "sStUkoh1FG4N"
      },
      "execution_count": 37,
      "outputs": []
    },
    {
      "cell_type": "code",
      "source": [
        "# Write a NumPy function to get the Number of dimensions\n",
        "def get_dimensions(arr):\n",
        "  return arr.ndim\n",
        "dimensions = get_dimensions(a)\n",
        "print(dimensions)\n",
        "# Write a NumPy function to get the Shape of the array\n",
        "def get_shape(arr):\n",
        "  return arr.shape\n",
        "shape = get_shape(a)\n",
        "print(shape)\n",
        "# Write a NumPy function to get the Size of the array\n",
        "def get_size(arr):\n",
        "  return arr.size\n",
        "s = get_size(a)\n",
        "print(s)"
      ],
      "metadata": {
        "id": "vb35oi57Ev1f",
        "colab": {
          "base_uri": "https://localhost:8080/"
        },
        "outputId": "7c8480ac-7d73-4191-b531-d6eee1eddca7"
      },
      "execution_count": 38,
      "outputs": [
        {
          "output_type": "stream",
          "name": "stdout",
          "text": [
            "2\n",
            "(3, 3)\n",
            "9\n"
          ]
        }
      ]
    },
    {
      "cell_type": "code",
      "source": [
        "# Write a NumPy function to Reshape the array 'a' to the dimension (1,9)\n",
        "def reshape_array(arr):\n",
        "  return arr.reshape(1, 9)\n",
        "f = reshape_array(a)\n",
        "print(f)"
      ],
      "metadata": {
        "id": "MznU0NWKE54c",
        "colab": {
          "base_uri": "https://localhost:8080/"
        },
        "outputId": "1e518a99-a393-4555-836c-af78d1e27182"
      },
      "execution_count": 39,
      "outputs": [
        {
          "output_type": "stream",
          "name": "stdout",
          "text": [
            "[[4 6 8 9 3 1 1 8 5]]\n"
          ]
        }
      ]
    },
    {
      "cell_type": "code",
      "source": [
        "# Write a NumPy function to add a new axis to the array 'a'\n",
        "# Note : Show atleast two different ways of doing this\n",
        "def add_new_axis1(arr):\n",
        "    new_arr1 = arr[:, np.newaxis]\n",
        "    return new_arr1\n",
        "n=add_new_axis1(a)\n",
        "print(n)\n",
        "def add_new_axis2(ar):\n",
        "    new=ar[:, np.newaxis]\n",
        "    return new\n",
        "nn=add_new_axis2(a)\n",
        "print(nn)"
      ],
      "metadata": {
        "id": "p1dlxcNYE8tv",
        "colab": {
          "base_uri": "https://localhost:8080/"
        },
        "outputId": "175e5603-612c-4662-a057-106c885404ba"
      },
      "execution_count": 41,
      "outputs": [
        {
          "output_type": "stream",
          "name": "stdout",
          "text": [
            "[[[4 6 8]]\n",
            "\n",
            " [[9 3 1]]\n",
            "\n",
            " [[1 8 5]]]\n",
            "[[[4 6 8]]\n",
            "\n",
            " [[9 3 1]]\n",
            "\n",
            " [[1 8 5]]]\n"
          ]
        }
      ]
    },
    {
      "cell_type": "markdown",
      "source": [
        "### Indexing and slicing\n",
        "- NumPy allows indexing array using tuple of nonnegative integers, booleans, array or integers"
      ],
      "metadata": {
        "id": "Ng4xWkwpFtao"
      }
    },
    {
      "cell_type": "code",
      "source": [
        "a = np.array([[4,6,0], [0, 3, 1], [1, 8, 5]])"
      ],
      "metadata": {
        "id": "swrtOhPGGB7r"
      },
      "execution_count": 42,
      "outputs": []
    },
    {
      "cell_type": "code",
      "source": [
        "# Write a NumPy function to index and slice NumPy arrays similar to Python lists\n",
        "# Show all three - indexing by a integer, indexing by a tuple, using range\n",
        "def index_and_slice(arr):\n",
        "    integer_indexed = arr[1]\n",
        "    print(\"Indexing by an integer:\", integer_indexed)\n",
        "\n",
        "    tuple_indexed = arr[1, 2]\n",
        "    print(\"Indexing by a tuple:\", tuple_indexed)\n",
        "\n",
        "    range_indexed = arr[0:2, 1:3]\n",
        "    print(\"Using range:\", range_indexed)\n",
        "\n",
        "index_and_slice(a)"
      ],
      "metadata": {
        "id": "w3QaVYRyFs77",
        "colab": {
          "base_uri": "https://localhost:8080/"
        },
        "outputId": "40eae7a6-87ee-4f63-83f7-f8350b742cb3"
      },
      "execution_count": 43,
      "outputs": [
        {
          "output_type": "stream",
          "name": "stdout",
          "text": [
            "Indexing by an integer: [0 3 1]\n",
            "Indexing by a tuple: 1\n",
            "Using range: [[6 0]\n",
            " [3 1]]\n"
          ]
        }
      ]
    },
    {
      "cell_type": "code",
      "source": [
        "# Write a NumPy function to select values satisfying a specific condition like Values greater than 4\n",
        "def greater_than_4(arr):\n",
        "  return arr[arr > 4]\n",
        "print(greater_than_4(a))\n",
        "# Write a NumPy function to select values satisfying mulitple conditions like Values greater than 4 and divisible by 2\n",
        "def greater_4_and_divisible_2(arr):\n",
        "  return arr[(arr > 4) & (arr % 2 == 0)]\n",
        "print(greater_4_and_divisible_2(a))"
      ],
      "metadata": {
        "id": "Xn2_z5h-Fmrd",
        "colab": {
          "base_uri": "https://localhost:8080/"
        },
        "outputId": "ba592683-d1ed-4305-f7b6-aa303262dbaf"
      },
      "execution_count": 45,
      "outputs": [
        {
          "output_type": "stream",
          "name": "stdout",
          "text": [
            "[6 8 5]\n",
            "[6 8]\n"
          ]
        }
      ]
    },
    {
      "cell_type": "markdown",
      "source": [
        "### Copying arrays\n",
        "- new array object with a copy of the data\n",
        "- Changes made in the copy array is not reflected in the original array"
      ],
      "metadata": {
        "id": "GWU0EfaAG2ll"
      }
    },
    {
      "cell_type": "code",
      "source": [
        "a = np.array([[4,6,0], [0, 3, 1], [1, 8, 5]])"
      ],
      "metadata": {
        "id": "ijdgy02lHMJW"
      },
      "execution_count": 46,
      "outputs": []
    },
    {
      "cell_type": "code",
      "source": [
        "# Write a NumPy function to copy the array 'a' and finally print an array where all elements are increased by 1\n",
        "def c_and_i(arr):\n",
        "  arr_copy = arr.copy()\n",
        "  arr_copy += 1\n",
        "  return arr_copy\n",
        "incre_a = c_and_i(a)\n",
        "print(incre_a)"
      ],
      "metadata": {
        "id": "FmgUdh66GuQH",
        "colab": {
          "base_uri": "https://localhost:8080/"
        },
        "outputId": "987cfac0-7a62-4eb5-8d38-7d56ce5c98cf"
      },
      "execution_count": 47,
      "outputs": [
        {
          "output_type": "stream",
          "name": "stdout",
          "text": [
            "[[5 7 1]\n",
            " [1 4 2]\n",
            " [2 9 6]]\n"
          ]
        }
      ]
    },
    {
      "cell_type": "markdown",
      "source": [
        "## Pandas ( Python Data Analysis Library)\n",
        "\n",
        "### Main Features\n",
        "- Easy handling of missing data in both floating point and non-floating point data.\n",
        "- Automatic and explicit data alignment, making it easy to perform computations and transformations on data sets.\n",
        "\n"
      ],
      "metadata": {
        "id": "M1KLD5QxHsVw"
      }
    },
    {
      "cell_type": "markdown",
      "source": [
        "#### Generating the dataset"
      ],
      "metadata": {
        "id": "v1CuU3FeIq1a"
      }
    },
    {
      "cell_type": "markdown",
      "source": [
        "Run the following load command to get the 2-Dim iris dataset. Do the following operations on it and please dont edit this cell"
      ],
      "metadata": {
        "id": "fp36ZqOMIy7k"
      }
    },
    {
      "cell_type": "code",
      "source": [
        "url = 'https://archive.ics.uci.edu/ml/machine-learning-databases/iris/iris.data'\n",
        "iris_2d = np.genfromtxt(url, delimiter=',', dtype='float', usecols=[0,1,2,3])"
      ],
      "metadata": {
        "id": "A_O5RTBXIyK-"
      },
      "execution_count": 48,
      "outputs": []
    },
    {
      "cell_type": "markdown",
      "source": [
        "#### Basic Data Analysis"
      ],
      "metadata": {
        "id": "EILb6pPrS8Ju"
      }
    },
    {
      "cell_type": "code",
      "source": [
        "# Write a Pandas function to drop rows that contain a missing value.\n",
        "#print(iris_2d)\n",
        "def drop_miss_value(arr):\n",
        "    df=pd.DataFrame(arr)\n",
        "    return df.dropna()\n",
        "dff=drop_miss_value(iris_2d)\n",
        "print(dff.to_string)\n"
      ],
      "metadata": {
        "id": "bViO1LLoI7sz",
        "colab": {
          "base_uri": "https://localhost:8080/"
        },
        "outputId": "f24b4575-0b5a-427a-e5a9-94d33b9d8a3f"
      },
      "execution_count": 50,
      "outputs": [
        {
          "output_type": "stream",
          "name": "stdout",
          "text": [
            "<bound method DataFrame.to_string of        0    1    2    3\n",
            "0    5.1  3.5  1.4  0.2\n",
            "1    4.9  3.0  1.4  0.2\n",
            "2    4.7  3.2  1.3  0.2\n",
            "3    4.6  3.1  1.5  0.2\n",
            "4    5.0  3.6  1.4  0.2\n",
            "..   ...  ...  ...  ...\n",
            "145  6.7  3.0  5.2  2.3\n",
            "146  6.3  2.5  5.0  1.9\n",
            "147  6.5  3.0  5.2  2.0\n",
            "148  6.2  3.4  5.4  2.3\n",
            "149  5.9  3.0  5.1  1.8\n",
            "\n",
            "[150 rows x 4 columns]>\n"
          ]
        }
      ]
    },
    {
      "cell_type": "code",
      "source": [
        "# Write a Pandas function to find the correlation between the first two columns.\n",
        "def corr(arr):\n",
        "    df=pd.DataFrame(arr)\n",
        "    return df.corr()\n",
        "print(corr(iris_2d))"
      ],
      "metadata": {
        "id": "zp_BYv5EJDjJ",
        "colab": {
          "base_uri": "https://localhost:8080/"
        },
        "outputId": "b786ac80-20c5-444d-a125-59624a114713"
      },
      "execution_count": 51,
      "outputs": [
        {
          "output_type": "stream",
          "name": "stdout",
          "text": [
            "          0         1         2         3\n",
            "0  1.000000 -0.109369  0.871754  0.817954\n",
            "1 -0.109369  1.000000 -0.420516 -0.356544\n",
            "2  0.871754 -0.420516  1.000000  0.962757\n",
            "3  0.817954 -0.356544  0.962757  1.000000\n"
          ]
        }
      ]
    },
    {
      "cell_type": "code",
      "source": [],
      "metadata": {
        "id": "SbNjvIuad8j7"
      },
      "execution_count": null,
      "outputs": []
    },
    {
      "cell_type": "code",
      "source": [
        "# Write a Pandas function to find the mean, median and standard deviation of column 3.\n",
        "def mean_median_std(arr):\n",
        "    df=pd.DataFrame(arr)\n",
        "    return df.describe()\n",
        "print(mean_median_std(iris_2d))"
      ],
      "metadata": {
        "id": "0mjeoZCwJDoW",
        "colab": {
          "base_uri": "https://localhost:8080/"
        },
        "outputId": "ef428d7e-7fd1-4c5b-e899-f91e6d44117d"
      },
      "execution_count": 52,
      "outputs": [
        {
          "output_type": "stream",
          "name": "stdout",
          "text": [
            "                0           1           2           3\n",
            "count  150.000000  150.000000  150.000000  150.000000\n",
            "mean     5.843333    3.054000    3.758667    1.198667\n",
            "std      0.828066    0.433594    1.764420    0.763161\n",
            "min      4.300000    2.000000    1.000000    0.100000\n",
            "25%      5.100000    2.800000    1.600000    0.300000\n",
            "50%      5.800000    3.000000    4.350000    1.300000\n",
            "75%      6.400000    3.300000    5.100000    1.800000\n",
            "max      7.900000    4.400000    6.900000    2.500000\n"
          ]
        }
      ]
    },
    {
      "cell_type": "code",
      "source": [
        "# Write a Pandas function to create a new column for volume in iris_2d, where volume is (pi x petallength x sepal_length^2)/3\n",
        "# Hints:\n",
        "# 1. Introduce new dimension to match iris_2d's\n",
        "# 2. Add the new column"
      ],
      "metadata": {
        "id": "bRiYEhWTJDrM"
      },
      "execution_count": 53,
      "outputs": []
    },
    {
      "cell_type": "markdown",
      "source": [
        "# Section B *(2 Marks each)*"
      ],
      "metadata": {
        "id": "dGqrG93ELEQ3"
      }
    },
    {
      "cell_type": "markdown",
      "source": [
        "###NumPy"
      ],
      "metadata": {
        "id": "OLm8jv7tMH6h"
      }
    },
    {
      "cell_type": "markdown",
      "source": [
        "Q1 Let x = np.arange(4, dtype=np.int64). Create an array of ones with the same shape and type as X."
      ],
      "metadata": {
        "id": "zE1n0x7ZLRLU"
      }
    },
    {
      "cell_type": "code",
      "source": [
        "\n",
        "x = np.arange(4, dtype=np.int64)\n",
        "ones = np.ones_like(x)\n",
        "print(ones)"
      ],
      "metadata": {
        "id": "Z-5hvjwxfMFG"
      },
      "execution_count": null,
      "outputs": []
    },
    {
      "cell_type": "markdown",
      "source": [
        "Q2 Let x be an array [1, 2, 3, ..., 9]. Split x into 3 arrays, each of which has 4, 2, and 3 elements in the original order."
      ],
      "metadata": {
        "id": "PPYeTqoHLSNj"
      }
    },
    {
      "cell_type": "code",
      "source": [
        "x = np.arange(1, 10)\n",
        "ar1=x[0:4]\n",
        "ar2=x[4:6]\n",
        "ar3=x[6:9]\n",
        "print(ar1)\n",
        "print(ar2)\n",
        "print(ar3)"
      ],
      "metadata": {
        "id": "DS9mr30LLYdg",
        "colab": {
          "base_uri": "https://localhost:8080/"
        },
        "outputId": "85db80da-4c32-4b89-ae5c-5e605e423a1c"
      },
      "execution_count": 54,
      "outputs": [
        {
          "output_type": "stream",
          "name": "stdout",
          "text": [
            "[1 2 3 4]\n",
            "[5 6]\n",
            "[7 8 9]\n"
          ]
        }
      ]
    },
    {
      "cell_type": "markdown",
      "source": [
        "Q3 Initiate x as a 2x5 array with random values from 0 to 10(not inclusive).Get the maximum and minimum values and their indices of x along the second axis."
      ],
      "metadata": {
        "id": "b1wJaooRLXjN"
      }
    },
    {
      "cell_type": "code",
      "source": [
        "x=np.random.randint(10, size=(2,5))\n",
        "print(x)\n",
        "print(\"max_value \",x.max(axis=1),\"index \",x.argmax(axis=1))\n",
        "print(\"min_value \",x.min(axis=1),\"index \",x.argmin(axis=1))"
      ],
      "metadata": {
        "id": "GnXDqksjLf89",
        "colab": {
          "base_uri": "https://localhost:8080/"
        },
        "outputId": "8dbb6e7a-e555-4c41-b9fd-a515f5c32e24"
      },
      "execution_count": 55,
      "outputs": [
        {
          "output_type": "stream",
          "name": "stdout",
          "text": [
            "[[0 3 8 7 1]\n",
            " [8 3 0 6 9]]\n",
            "max_value  [8 9] index  [2 4]\n",
            "min_value  [0 0] index  [0 2]\n"
          ]
        }
      ]
    },
    {
      "cell_type": "markdown",
      "source": [
        "### Pandas"
      ],
      "metadata": {
        "id": "8_Q7fbyxMMHM"
      }
    },
    {
      "cell_type": "markdown",
      "source": [
        "Run the following load command and solve the following questions"
      ],
      "metadata": {
        "id": "3QpaFHkxJUho"
      }
    },
    {
      "cell_type": "code",
      "source": [
        "url = 'https://archive.ics.uci.edu/ml/machine-learning-databases/iris/iris.data'\n",
        "iris = np.genfromtxt(url, delimiter=',', dtype='object')\n",
        "names = ('sepallength', 'sepalwidth', 'petallength', 'petalwidth', 'species')"
      ],
      "metadata": {
        "id": "mLdcY49iJDtl"
      },
      "execution_count": 56,
      "outputs": []
    },
    {
      "cell_type": "markdown",
      "source": [
        "Q4 Write a Pandas function to find the count of unique species."
      ],
      "metadata": {
        "id": "zbDepnx9RtV8"
      }
    },
    {
      "cell_type": "code",
      "source": [
        "def unique_species(arr):\n",
        "    df=pd.DataFrame(arr)\n",
        "    return df[4].nunique()\n",
        "print(unique_species(iris))"
      ],
      "metadata": {
        "id": "oAkO0UnqJDv7",
        "colab": {
          "base_uri": "https://localhost:8080/"
        },
        "outputId": "0dbc58fb-6b0b-4474-99d2-167fb7cd3b3c"
      },
      "execution_count": 64,
      "outputs": [
        {
          "output_type": "stream",
          "name": "stdout",
          "text": [
            "          0       1       2       3                  4\n",
            "0    b'5.1'  b'3.5'  b'1.4'  b'0.2'     b'Iris-setosa'\n",
            "1    b'4.9'  b'3.0'  b'1.4'  b'0.2'     b'Iris-setosa'\n",
            "2    b'4.7'  b'3.2'  b'1.3'  b'0.2'     b'Iris-setosa'\n",
            "3    b'4.6'  b'3.1'  b'1.5'  b'0.2'     b'Iris-setosa'\n",
            "4    b'5.0'  b'3.6'  b'1.4'  b'0.2'     b'Iris-setosa'\n",
            "..      ...     ...     ...     ...                ...\n",
            "145  b'6.7'  b'3.0'  b'5.2'  b'2.3'  b'Iris-virginica'\n",
            "146  b'6.3'  b'2.5'  b'5.0'  b'1.9'  b'Iris-virginica'\n",
            "147  b'6.5'  b'3.0'  b'5.2'  b'2.0'  b'Iris-virginica'\n",
            "148  b'6.2'  b'3.4'  b'5.4'  b'2.3'  b'Iris-virginica'\n",
            "149  b'5.9'  b'3.0'  b'5.1'  b'1.8'  b'Iris-virginica'\n",
            "\n",
            "[150 rows x 5 columns]\n"
          ]
        }
      ]
    },
    {
      "cell_type": "markdown",
      "source": [
        "# Q5 Write a Pandas function to bin the petal length (3rd) column of iris_2d to form a text array, such that if petal length is:\n",
        "- Less than 3 –> ‘small’\n",
        "- 3-5 –> ‘medium’\n",
        "- greater than equal to 5 –> ‘large’"
      ],
      "metadata": {
        "id": "Usj5HlvyRxal"
      }
    },
    {
      "cell_type": "code",
      "source": [],
      "metadata": {
        "id": "gTWWJoLMJDxx"
      },
      "execution_count": null,
      "outputs": []
    },
    {
      "cell_type": "markdown",
      "source": [
        "Q6 Write a Pandas function to find the most frequent value of petal length (3rd column) in iris dataset"
      ],
      "metadata": {
        "id": "IbBYP_8sSBrB"
      }
    },
    {
      "cell_type": "code",
      "source": [
        "def most_frequent_petal_length(arr):\n",
        "    df=pd.DataFrame(arr)\n",
        "    h=df[2].mode()\n",
        "    return h\n",
        "print(most_frequent_petal_length(iris))"
      ],
      "metadata": {
        "id": "DNk_tlVWJufR",
        "colab": {
          "base_uri": "https://localhost:8080/"
        },
        "outputId": "3f52e002-9754-4218-fa97-a57293083549"
      },
      "execution_count": 62,
      "outputs": [
        {
          "output_type": "stream",
          "name": "stdout",
          "text": [
            "0    b'1.5'\n",
            "Name: 2, dtype: object\n"
          ]
        }
      ]
    }
  ]
}